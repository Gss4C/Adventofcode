{
 "cells": [
  {
   "cell_type": "code",
   "execution_count": 12,
   "metadata": {},
   "outputs": [
    {
     "name": "stdout",
     "output_type": "stream",
     "text": [
      "['7-F7-']\n",
      "['7', '-', 'F', '7', '-']\n",
      "\n",
      "['.FJ|7']\n",
      "['.', 'F', 'J', '|', '7']\n",
      "\n",
      "['SJLL7']\n",
      "['S', 'J', 'L', 'L', '7']\n",
      "\n",
      "['|F--J']\n",
      "['|', 'F', '-', '-', 'J']\n",
      "\n",
      "['LJ.LJ']\n",
      "['L', 'J', '.', 'L', 'J']\n",
      "\n"
     ]
    }
   ],
   "source": [
    "file = open('test.txt','r')\n",
    "\n",
    "for riga in file:\n",
    "    print(riga.split())\n",
    "    lista = [riga[i] for i in range(len(riga.strip()))]\n",
    "    print(lista)\n",
    "    print()"
   ]
  },
  {
   "cell_type": "code",
   "execution_count": 15,
   "metadata": {},
   "outputs": [
    {
     "name": "stdout",
     "output_type": "stream",
     "text": [
      "[['7', '-', 'F', '7', '-'], ['.', 'F', 'J', '|', '7'], ['S', 'J', 'L', 'L', '7'], ['|', 'F', '-', '-', 'J'], ['L', 'J', '.', 'L', 'J']]\n"
     ]
    }
   ],
   "source": [
    "the_matrix = []\n",
    "file = open('test.txt','r')\n",
    "for riga in file:\n",
    "    riga_matrix = [riga[j] for j in range(len(riga.strip()))]\n",
    "    the_matrix.append(riga_matrix)\n",
    "    \n",
    "print(the_matrix)"
   ]
  },
  {
   "cell_type": "code",
   "execution_count": 25,
   "metadata": {},
   "outputs": [
    {
     "name": "stdout",
     "output_type": "stream",
     "text": [
      "2 0\n",
      "riga:  2\n",
      "colonna:  0\n",
      "Elemento:  S\n"
     ]
    }
   ],
   "source": [
    "indice_riga, indice_colonna = 0,0\n",
    "for i, riga in enumerate(the_matrix):\n",
    "        if 'S' not in riga:\n",
    "            continue\n",
    "        else:\n",
    "            for j, colonna in enumerate(riga):\n",
    "                #print(colonna, i, j)\n",
    "                if colonna == 'S':\n",
    "                    print(i,j)\n",
    "                    indice_riga = i\n",
    "                    indice_colonna = j\n",
    "print('riga: ', indice_riga)\n",
    "print('colonna: ', indice_colonna)\n",
    "print('Elemento: ',the_matrix[indice_riga][indice_colonna])"
   ]
  },
  {
   "cell_type": "code",
   "execution_count": null,
   "metadata": {},
   "outputs": [],
   "source": []
  }
 ],
 "metadata": {
  "kernelspec": {
   "display_name": "base",
   "language": "python",
   "name": "python3"
  },
  "language_info": {
   "codemirror_mode": {
    "name": "ipython",
    "version": 3
   },
   "file_extension": ".py",
   "mimetype": "text/x-python",
   "name": "python",
   "nbconvert_exporter": "python",
   "pygments_lexer": "ipython3",
   "version": "3.9.12"
  }
 },
 "nbformat": 4,
 "nbformat_minor": 2
}
