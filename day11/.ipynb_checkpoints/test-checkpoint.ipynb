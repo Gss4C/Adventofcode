{
 "cells": [
  {
   "cell_type": "code",
   "execution_count": 6,
   "metadata": {},
   "outputs": [],
   "source": [
    "import numpy as np\n",
    "file = open('test.txt','r')\n",
    "\n",
    "the_matrix = []\n",
    "for riga in file:\n",
    "    riga_matrix = [riga[j] for j in range(len(riga.strip()))]\n",
    "    the_matrix.append(riga_matrix)"
   ]
  },
  {
   "cell_type": "code",
   "execution_count": 7,
   "metadata": {},
   "outputs": [],
   "source": [
    "def aggiungi_righe_universo(universo_matrix):\n",
    "    universo_espanso_verticale = []\n",
    "    for i, riga in enumerate(universo_matrix):\n",
    "        if '#' in riga:\n",
    "            universo_espanso_verticale.append(riga)\n",
    "        else:\n",
    "            universo_espanso_verticale.append(['.' for j in range(len(riga))])\n",
    "            universo_espanso_verticale.append(['.' for j in range(len(riga))])\n",
    "    return universo_espanso_verticale\n",
    "\n",
    "def aggiungi_colonne_universo(universo_da_espandere):\n",
    "    #universo_espanso_finale = []\n",
    "\n",
    "    universo_trasposto = np.transpose(universo_da_espandere)\n",
    "    '''\n",
    "    for indice_colonna in range(len(universo_da_espandere[0])):\n",
    "        vettore_colonna = []\n",
    "        for indice_riga in range(len(universo_da_espandere)):\n",
    "            vettore_colonna.append(universo_da_espandere[indice_riga][indice_colonna])\n",
    "        universo_trasposto.append(vettore_colonna)\n",
    "    '''\n",
    "    universo_espanso = aggiungi_righe_universo(universo_trasposto)\n",
    "    universo_espanso_finale = np.transpose(universo_espanso)\n",
    "    return universo_espanso_finale\n",
    "def expander(universo):\n",
    "    universo_espanso_h = aggiungi_righe_universo(universo)\n",
    "    universo_finale = aggiungi_colonne_universo(universo_espanso_h)\n",
    "    return universo_finale"
   ]
  },
  {
   "cell_type": "code",
   "execution_count": 8,
   "metadata": {},
   "outputs": [
    {
     "data": {
      "text/plain": [
       "[['.', '.', '.', '#', '.', '.', '.', '.', '.', '.'],\n",
       " ['.', '.', '.', '.', '.', '.', '.', '#', '.', '.'],\n",
       " ['#', '.', '.', '.', '.', '.', '.', '.', '.', '.'],\n",
       " ['.', '.', '.', '.', '.', '.', '.', '.', '.', '.'],\n",
       " ['.', '.', '.', '.', '.', '.', '#', '.', '.', '.'],\n",
       " ['.', '#', '.', '.', '.', '.', '.', '.', '.', '.'],\n",
       " ['.', '.', '.', '.', '.', '.', '.', '.', '.', '#'],\n",
       " ['.', '.', '.', '.', '.', '.', '.', '.', '.', '.'],\n",
       " ['.', '.', '.', '.', '.', '.', '.', '#', '.', '.'],\n",
       " ['#', '.', '.', '.', '#', '.', '.', '.', '.', '.']]"
      ]
     },
     "execution_count": 8,
     "metadata": {},
     "output_type": "execute_result"
    }
   ],
   "source": [
    "the_matrix"
   ]
  },
  {
   "cell_type": "code",
   "execution_count": 9,
   "metadata": {},
   "outputs": [],
   "source": [
    "the_matrix = []\n",
    "for riga in file:\n",
    "    riga_matrix = [riga[j] for j in range(len(riga.strip()))]\n",
    "    the_matrix.append(riga)\n",
    "\n",
    "pos_galassie = []\n",
    "\n",
    "universo = expander(the_matrix)\n",
    "for i_riga in range(len(universo)):\n",
    "    for j_col in range(len(universo[i_riga])):\n",
    "        if universo[i_riga][j_col] == '#':\n",
    "            pos_galassie.append([i_riga],[j_col])\n",
    "\n",
    "coppie_non_ripetute = []\n",
    "for index in range(len(pos_galassie)):\n",
    "    for ondex in range(index):\n",
    "        if pos_galassie[index] != pos_galassie[ondex]:\n",
    "            coppia = [pos_galassie[index], pos_galassie[ondex]]\n",
    "        coppie_non_ripetute.append(coppia)"
   ]
  },
  {
   "cell_type": "code",
   "execution_count": null,
   "metadata": {},
   "outputs": [],
   "source": []
  }
 ],
 "metadata": {
  "kernelspec": {
   "display_name": "Python 3 (ipykernel)",
   "language": "python",
   "name": "python3"
  },
  "language_info": {
   "codemirror_mode": {
    "name": "ipython",
    "version": 3
   },
   "file_extension": ".py",
   "mimetype": "text/x-python",
   "name": "python",
   "nbconvert_exporter": "python",
   "pygments_lexer": "ipython3",
   "version": "3.10.12"
  }
 },
 "nbformat": 4,
 "nbformat_minor": 4
}
